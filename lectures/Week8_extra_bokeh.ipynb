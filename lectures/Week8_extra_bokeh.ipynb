{
 "cells": [
  {
   "cell_type": "markdown",
   "id": "oriented-cruise",
   "metadata": {},
   "source": [
    "## Stacked bar charts\n",
    "\n",
    "Continuing on from Part 2 of Week 8, let's do some more. \n",
    "\n",
    "We start once again with a magnificent gif:"
   ]
  },
  {
   "cell_type": "markdown",
   "id": "tamil-stanley",
   "metadata": {},
   "source": [
    "![Movie](https://github.com/suneman/socialdataanalysis2020/blob/master/files/week8_2a.gif?raw=true \"movie\")\n",
    "\n"
   ]
  },
  {
   "cell_type": "markdown",
   "id": "equivalent-storage",
   "metadata": {},
   "source": [
    "Now the idea is to look at which crimes dominate the various districts. So we use stacked barcharts of normalized crime to see how crime types compare in fractional occurrences across SF's precincts. \n",
    "\n",
    "Again, we will start with the data. The steps are:\n",
    "1. Take the data for the period of 2010-2018 and group by precinct (see Week 2)\n",
    "2. As we are interested in comparing the **fraction** of each crimes across precincts, we will to normalize the data once again:\n",
    "  * As above, to normalize the data you need to divide number of specific crime in a district by the *total number of crimes in the district*. Thus, to give a concrete example you should devide the number of assaults in Bayview by the total number of crimes in Bayview and so on \n",
    "  * Your life will be easier if your dataframe is arranged as [shown is this helpful screenshot](https://github.com/suneman/socialdataanalysis2020/blob/master/files/week8_2_data.PNG?raw=true).\n",
    "\n",
    "Nice! Now the visualisation, you can use either Bokeh Guide (see the link in the exercise above (Part 2) or [this guide](https://programminghistorian.org/en/lessons/visualizing-with-bokeh):\n",
    "1. You'll need to repeat the same two steps as in the exercise above (Part 2). In the second step you'll need to include an additional attribute:\n",
    "```python\n",
    "p = figure(...., tool=['hover'], ...) #we want to add a hover effect\n",
    "# you should find a way to display the name of the crime on hover (initially, the hover-tool won't do that)\n",
    "# see one of the guides or Google\n",
    "```\n",
    "2. For this visualisation, we are going to work with **vbar_stack**:\n",
    "```python\n",
    "p.vbar_stack(stackers=..., x=..., source=src, ...) ### you need to find what a stacker is\n",
    "```\n",
    "3. (Optional) You can see that my hover effect also shows the numbers. Use [this example](https://github.com/bokeh/bokeh/blob/16e87ed63ca1aecaa42e93293f32d936685dcd3e/sphinx/source/docs/user_guide/examples/categorical_bar_stacked_hover.py) to implement a more informative hover. You also might face an issue that HoverTool does not handle the columns with spaces in the name: [this can help](https://github.com/bokeh/bokeh/issues/4796)\n",
    "\n",
    "And you're done for today. "
   ]
  },
  {
   "cell_type": "markdown",
   "id": "amateur-symposium",
   "metadata": {},
   "source": [
    "##  Advanced and optional \n",
    "\n",
    "Your mission, should you choose to accept it, is to to implement the figure displayed below"
   ]
  },
  {
   "cell_type": "markdown",
   "id": "humanitarian-oasis",
   "metadata": {},
   "source": [
    "![Movie](https://github.com/suneman/socialdataanalysis2020/blob/master/files/week8_3.gif?raw=true \"movie\")\n",
    "\n"
   ]
  },
  {
   "cell_type": "markdown",
   "id": "narrow-administration",
   "metadata": {},
   "source": [
    "A bit more about what the figure shows.\n",
    "* It's a figure in Bokeh that can change the axes based on the user choice. \n",
    "* Districts are the circles. The position of the circle depends on the number of crimes in X-crime and Y-crime (you can either choose a specific year or use whole period). The radius of the circle is related to the total number of crimes in the district\n",
    "\n",
    "\n",
    "Some hints and comments to guide you: To complete this exercise, you will have to browse througth Bokeh documentation and/or StackOverflow topics\n",
    "*  I use two Bokeh Tables: first one stores all the results and second one is updated when the selection is made (you can see it on the GIF). To implement an update, you will have to use [CustomJS](https://docs.bokeh.org/en/latest/docs/user_guide/interaction/callbacks.html) method from Bokeh. And a small code snippet:\n",
    "```python\n",
    "# Example of the second dataframe\n",
    "# It is empty at the beggining\n",
    "df2 = pd.DataFrame({'District':['BAYVIEW','CENTRAL','INGLESIDE','MISSION','NORTHERN','PARK','RICHMOND','SOUTHERN','TARAVAL','TENDERLOIN'],\n",
    "                    'x':[float('nan')]*10,\n",
    "                    'y':[float('nan')]*10,\n",
    "                    'Total': [float('nan')]*10,\n",
    "                    'Radius': [float('nan')]*10,\n",
    "                    'Color': ...})\n",
    "# create source for empty dataframe\n",
    "src2 = ColumnDataSource(df2)\n",
    "# create cols\n",
    "table_columns2 = [TableColumn(field = Ci, title = Ci) for Ci in    df2.columns] \n",
    "# Bokeh Table\n",
    "data_table2 = DataTable(source=src2, columns=table_columns2, width=400)\n",
    "```"
   ]
  },
  {
   "cell_type": "code",
   "execution_count": null,
   "id": "baking-content",
   "metadata": {},
   "outputs": [],
   "source": []
  }
 ],
 "metadata": {
  "kernelspec": {
   "display_name": "Python 3",
   "language": "python",
   "name": "python3"
  },
  "language_info": {
   "codemirror_mode": {
    "name": "ipython",
    "version": 3
   },
   "file_extension": ".py",
   "mimetype": "text/x-python",
   "name": "python",
   "nbconvert_exporter": "python",
   "pygments_lexer": "ipython3",
   "version": "3.7.10"
  }
 },
 "nbformat": 4,
 "nbformat_minor": 5
}
